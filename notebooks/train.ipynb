{
 "cells": [
  {
   "cell_type": "code",
   "execution_count": 2,
   "id": "03e527c8-ab3a-4384-88a9-a7ac8fffeebd",
   "metadata": {},
   "outputs": [],
   "source": [
    "import sys\n",
    "sys.path.append(\"../\")"
   ]
  },
  {
   "cell_type": "code",
   "execution_count": 4,
   "id": "63565f6f-2393-4c24-866a-a76451846171",
   "metadata": {},
   "outputs": [],
   "source": [
    "import torch\n",
    "from unet.model import UNet3D\n",
    "from trainer import Trainer\n",
    "from dataset import BratsDataset\n",
    "from torch.utils.data import DataLoader\n",
    "from metrics import BCEDiceLoss"
   ]
  },
  {
   "cell_type": "code",
   "execution_count": 6,
   "id": "0fb774ac-fbfb-40d3-a12a-5cd371e39770",
   "metadata": {},
   "outputs": [],
   "source": [
    "train_ds = BratsDataset(\"../data/train\")\n",
    "valid_ds = BratsDataset(\"../data/valid\")\n",
    "batch_size = 2\n",
    "train_dl = DataLoader(train_ds, batch_size = batch_size, shuffle = False, num_workers = 2, pin_memory = True)\n",
    "valid_dl = DataLoader(valid_ds, batch_size = batch_size, shuffle = False, num_workers = 2, pin_memory = True)"
   ]
  },
  {
   "cell_type": "code",
   "execution_count": 7,
   "id": "c8e273e2-b2f2-4f89-b18b-a3d50682331d",
   "metadata": {},
   "outputs": [],
   "source": [
    "device = torch.device ('cuda' if torch.cuda.is_available() else 'cpu')\n",
    "model = UNet3D(4, 1).to(device).float()"
   ]
  },
  {
   "cell_type": "code",
   "execution_count": null,
   "id": "287e7cda-f860-4602-b55e-61986cf6e7af",
   "metadata": {},
   "outputs": [
    {
     "name": "stdout",
     "output_type": "stream",
     "text": [
      "device: cpu\n",
      "train epoch: 0 | time: 21:45:01\n"
     ]
    }
   ],
   "source": [
    "trainer = Trainer(net=model,\n",
    "                  train_dl=train_dl,\n",
    "                  val_dl=valid_dl,\n",
    "                  criterion=BCEDiceLoss(),\n",
    "                  lr=5e-4,\n",
    "                  accumulation_steps=batch_size,\n",
    "                  batch_size=batch_size,\n",
    "                  num_epochs=10,\n",
    "                  display_plot = True\n",
    "                 )\n",
    "\n",
    "trainer.run()"
   ]
  },
  {
   "cell_type": "code",
   "execution_count": null,
   "id": "3f389f00-3248-44bd-b4fc-4e34226bb32b",
   "metadata": {},
   "outputs": [],
   "source": []
  }
 ],
 "metadata": {
  "kernelspec": {
   "display_name": "brats",
   "language": "python",
   "name": "brats"
  },
  "language_info": {
   "codemirror_mode": {
    "name": "ipython",
    "version": 3
   },
   "file_extension": ".py",
   "mimetype": "text/x-python",
   "name": "python",
   "nbconvert_exporter": "python",
   "pygments_lexer": "ipython3",
   "version": "3.12.2"
  }
 },
 "nbformat": 4,
 "nbformat_minor": 5
}
